{
 "cells": [
  {
   "cell_type": "markdown",
   "metadata": {},
   "source": [
    "# String insertion methods in Python\n",
    "## C style <br>\n",
    "This material comes from: https://www.learnpython.org/en/String_Formatting <br>\n",
    "Python uses C-style string formatting to create new, formatted strings. <br>\n",
    "The \"%\" operator is used to format a set of variables enclosed in a \"tuple\" (a fixed size list), together with a format string, which contains normal text together with \"argument specifiers\", special symbols like \"%s\" and \"%d\"."
   ]
  },
  {
   "cell_type": "code",
   "execution_count": 27,
   "metadata": {},
   "outputs": [
    {
     "name": "stdout",
     "output_type": "stream",
     "text": [
      "Hello, Chris!\n"
     ]
    }
   ],
   "source": [
    "name = 'Chris'\n",
    "print('Hello, %s!' % name)"
   ]
  },
  {
   "cell_type": "code",
   "execution_count": 28,
   "metadata": {},
   "outputs": [
    {
     "name": "stdout",
     "output_type": "stream",
     "text": [
      "Hello, Chris!\n"
     ]
    }
   ],
   "source": [
    "name = 'Chris'\n",
    "hello = 'Hello, %s!' % name\n",
    "print(hello)"
   ]
  },
  {
   "cell_type": "markdown",
   "metadata": {},
   "source": [
    "To use two or more argument specifiers, use a tuple (parentheses)"
   ]
  },
  {
   "cell_type": "code",
   "execution_count": 29,
   "metadata": {},
   "outputs": [
    {
     "name": "stdout",
     "output_type": "stream",
     "text": [
      "Fred likes red.\n"
     ]
    }
   ],
   "source": [
    "name = 'Fred'\n",
    "color = 'red'\n",
    "print('%s likes %s.' % (name, color))"
   ]
  },
  {
   "cell_type": "markdown",
   "metadata": {},
   "source": [
    "Here are some basic argument specifiers you should know:\n",
    "\n",
    "%s - String (or any object with a string representation, like numbers)\n",
    "\n",
    "%d - Integers\n",
    "\n",
    "%f - Floating point numbers\n",
    "\n",
    "%.<number of digits>f - Floating point numbers with a fixed amount of digits to the right of the dot.\n",
    "\n",
    "%x/%X - Integers in hex representation (lowercase/uppercase)"
   ]
  },
  {
   "cell_type": "markdown",
   "metadata": {},
   "source": [
    "## string.template()\n",
    "This example comes from: https://docs.python.org/3/library/string.html#template-strings <br>\n",
    "<br>\n",
    "Template strings support \\\\$-based substitutions, using the following rules:<br>\n",
    "\\\\$\\\\$ is an escape; it is replaced with a single \\\\$. <br>\n",
    "\\$identifier names a substitution placeholder matching a mapping key of \"identifier\". By default, \"identifier\" is restricted to any case-insensitive ASCII alphanumeric string (including underscores) that starts with an underscore or ASCII letter. The first non-identifier character after the \\\\$ character terminates this placeholder specification. <br>\n",
    "\\\\${identifier} is equivalent to \\\\$identifier. It is required when valid identifier characters follow the placeholder but are not part of the placeholder, such as \"\\\\${noun}ification\"."
   ]
  },
  {
   "cell_type": "code",
   "execution_count": 30,
   "metadata": {},
   "outputs": [
    {
     "name": "stdout",
     "output_type": "stream",
     "text": [
      "Barry likes burgundy\n"
     ]
    }
   ],
   "source": [
    "from string import Template\n",
    "\n",
    "template = Template('$name likes $color')\n",
    "result = template.substitute(name='Barry', color='burgundy')\n",
    "print(result)"
   ]
  },
  {
   "cell_type": "code",
   "execution_count": 31,
   "metadata": {},
   "outputs": [
    {
     "name": "stdout",
     "output_type": "stream",
     "text": [
      "Anna likes apricot\n"
     ]
    }
   ],
   "source": [
    "# use with dictionary\n",
    "\n",
    "information = dict(name='Anna', color='apricot')\n",
    "result = Template('$name likes $color').safe_substitute(information)\n",
    "print(result)"
   ]
  },
  {
   "cell_type": "markdown",
   "metadata": {},
   "source": [
    "## f-Strings<br>\n",
    "<br>\n",
    "The following material comes from: https://realpython.com/python-f-strings/ <br>\n",
    "<br>\n",
    "Older methods:<br>\n",
    "    1) % operator (see above)<br>\n",
    "    2) str.format() - introduced in Python 2.6<br>\n",
    "<br>  \n",
    "Limitations of older methods:<br>\n",
    "    1) If you have many items and long strings, it starts getting really hard to read the code.<br>\n",
    "    2) Like %, str.format() can also be very verbose with many parameters and long strings."
   ]
  },
  {
   "cell_type": "code",
   "execution_count": 32,
   "metadata": {},
   "outputs": [
    {
     "name": "stdout",
     "output_type": "stream",
     "text": [
      "Betty likes blue.\n"
     ]
    }
   ],
   "source": [
    "# str.format() example\n",
    "# replacement fields are marked with curly braces {}\n",
    "name = 'Betty'\n",
    "color = 'blue'\n",
    "example = '{} likes {}.'.format(name,color)\n",
    "print(example)"
   ]
  },
  {
   "cell_type": "code",
   "execution_count": 33,
   "metadata": {},
   "outputs": [
    {
     "name": "stdout",
     "output_type": "stream",
     "text": [
      "Betty likes blue.\n"
     ]
    }
   ],
   "source": [
    "# you can reference tuple with indexes\n",
    "example2 = '{1} likes {0}.'.format(color, name)\n",
    "print(example2)"
   ]
  },
  {
   "cell_type": "code",
   "execution_count": 34,
   "metadata": {},
   "outputs": [
    {
     "name": "stdout",
     "output_type": "stream",
     "text": [
      "Robert likes rose.\n"
     ]
    }
   ],
   "source": [
    "# you can use dictionaries and reference the keys\n",
    "person = {'name': 'Robert', 'color': 'rose'}\n",
    "example3 = '{name} likes {color}.'.format(**person)\n",
    "print(example3)"
   ]
  },
  {
   "cell_type": "markdown",
   "metadata": {},
   "source": [
    "### f-Strings introduced in Python 3.6\n",
    "more information in PEP 498 https://www.python.org/dev/peps/pep-0498/ <br>\n",
    "AKA formatted string literals <br>\n",
    "have f at the beginning and curly braces {} containing expressions"
   ]
  },
  {
   "cell_type": "code",
   "execution_count": 35,
   "metadata": {},
   "outputs": [
    {
     "name": "stdout",
     "output_type": "stream",
     "text": [
      "Kyle likes crimson.\n"
     ]
    }
   ],
   "source": [
    "name = 'Kyle'\n",
    "color = 'crimson'\n",
    "example4 = f'{name} likes {color}.'\n",
    "print(example4)"
   ]
  },
  {
   "cell_type": "code",
   "execution_count": 36,
   "metadata": {},
   "outputs": [
    {
     "name": "stdout",
     "output_type": "stream",
     "text": [
      "Sam likes scarlet.\n"
     ]
    }
   ],
   "source": [
    "# It also works with a capitol F\n",
    "name = 'Sam'\n",
    "color = 'scarlet'\n",
    "example4 = F'{name} likes {color}.'\n",
    "print(example4)"
   ]
  },
  {
   "cell_type": "code",
   "execution_count": 37,
   "metadata": {},
   "outputs": [
    {
     "name": "stdout",
     "output_type": "stream",
     "text": [
      "10\n"
     ]
    }
   ],
   "source": [
    "# You can use arbitrary expressions within curly braces {}\n",
    "number = f'{1+2+3+4}'\n",
    "print(number)"
   ]
  },
  {
   "cell_type": "code",
   "execution_count": 38,
   "metadata": {},
   "outputs": [
    {
     "name": "stdout",
     "output_type": "stream",
     "text": [
      "Scott like to SHOUT.\n"
     ]
    }
   ],
   "source": [
    "# You can call functions within curly braces {}\n",
    "def to_uppercase(input):\n",
    "    return input.upper()\n",
    "\n",
    "name = 'Scott'\n",
    "action = 'shout'\n",
    "example5 = f'{name} like to {to_uppercase(action)}.'\n",
    "print(example5)"
   ]
  },
  {
   "cell_type": "code",
   "execution_count": 39,
   "metadata": {},
   "outputs": [
    {
     "name": "stdout",
     "output_type": "stream",
     "text": [
      "Frank like to FIGHT.\n"
     ]
    }
   ],
   "source": [
    "# You can call a method directly.\n",
    "name = 'Frank'\n",
    "action = 'fight'\n",
    "example6 = f'{name} like to {action.upper()}.'\n",
    "print(example6)"
   ]
  },
  {
   "cell_type": "code",
   "execution_count": 40,
   "metadata": {},
   "outputs": [
    {
     "name": "stdout",
     "output_type": "stream",
     "text": [
      "Eric Idle is 74.\n"
     ]
    }
   ],
   "source": [
    "# You can use objects created from classes.\n",
    "class Comedian:\n",
    "    def __init__(self, first_name, last_name, age):\n",
    "        self.first_name = first_name\n",
    "        self.last_name = last_name\n",
    "        self.age = age\n",
    "\n",
    "    def __str__(self):\n",
    "        return f\"{self.first_name} {self.last_name} is {self.age}.\"\n",
    "\n",
    "    def __repr__(self):\n",
    "        return f\"{self.first_name} {self.last_name} is {self.age}. Surprise!\"\n",
    "\n",
    "new_comedian = Comedian('Eric', 'Idle', '74')\n",
    "person2 = f'{new_comedian}'\n",
    "print(person2)"
   ]
  },
  {
   "cell_type": "markdown",
   "metadata": {},
   "source": [
    "The __str__() and __repr__() methods deal with how objects are presented as strings, so you’ll need to make sure you include at least one of those methods in your class definition. If you have to pick one, go with __repr__() because it can be used in place of __str__().\n",
    "\n",
    "The string returned by __str__() is the informal string representation of an object and should be readable. The string returned by __repr__() is the official representation and should be unambiguous. Calling str() and repr() is preferable to using __str__() and __repr__() directly.\n",
    "\n",
    "By default, f-strings will use __str__(), but you can make sure they use __repr__() if you include the conversion flag !r:"
   ]
  },
  {
   "cell_type": "code",
   "execution_count": 41,
   "metadata": {},
   "outputs": [
    {
     "name": "stdout",
     "output_type": "stream",
     "text": [
      "Eric Idle is 74. Surprise!\n"
     ]
    }
   ],
   "source": [
    "person3 = f'{new_comedian!r}'\n",
    "print(person3)"
   ]
  },
  {
   "cell_type": "code",
   "execution_count": 42,
   "metadata": {},
   "outputs": [
    {
     "name": "stdout",
     "output_type": "stream",
     "text": [
      "This is Holly. Holly likes honey. Holly likes to hike.\n"
     ]
    }
   ],
   "source": [
    "# You can use multiline f-strings. f has to be at the beginning of each line.\n",
    "\n",
    "name = 'Holly'\n",
    "color = 'honey'\n",
    "action = 'hike'\n",
    "\n",
    "message = (\n",
    "          f'This is {name}. '\n",
    "          f'{name} likes {color}. '\n",
    "          f'{name} likes to {action}.'\n",
    ")\n",
    "print(message)"
   ]
  },
  {
   "cell_type": "code",
   "execution_count": 43,
   "metadata": {},
   "outputs": [
    {
     "name": "stdout",
     "output_type": "stream",
     "text": [
      "This is Bert. Bert likes black. Bert likes to bike.\n"
     ]
    }
   ],
   "source": [
    "# You can also create multiline f-strings with \\ at the end of the line.\n",
    "name = 'Bert'\n",
    "color = 'black'\n",
    "action = 'bike'\n",
    "\n",
    "message = f'This is {name}. ' \\\n",
    "          f'{name} likes {color}. ' \\\n",
    "          f'{name} likes to {action}.' \\\n",
    "\n",
    "print(message)"
   ]
  },
  {
   "cell_type": "markdown",
   "metadata": {},
   "source": [
    "f-strings are faster than both %-formatting and str.format(). As you already saw, f-strings are expressions evaluated at runtime rather than constant values. <br>\n",
    "Additional details regarding some formatting things to watch out for are at https://realpython.com/python-f-strings/"
   ]
  },
  {
   "cell_type": "markdown",
   "metadata": {},
   "source": [
    "# Original Task\n",
    "Insert text into a file name so separate files can be created and saved programatically which contain data from the original file, but processed for different purposes."
   ]
  },
  {
   "cell_type": "code",
   "execution_count": 44,
   "metadata": {},
   "outputs": [
    {
     "name": "stdout",
     "output_type": "stream",
     "text": [
      "Original_File.csv\n"
     ]
    }
   ],
   "source": [
    "# Original file name\n",
    "\n",
    "file = 'Original_File.csv'\n",
    "print(file)"
   ]
  },
  {
   "cell_type": "code",
   "execution_count": 45,
   "metadata": {},
   "outputs": [
    {
     "name": "stdout",
     "output_type": "stream",
     "text": [
      "13\n"
     ]
    }
   ],
   "source": [
    "# find out where file extension starts\n",
    "\n",
    "ext_pos = file.find('.csv')\n",
    "print(ext_pos)"
   ]
  },
  {
   "cell_type": "code",
   "execution_count": 46,
   "metadata": {},
   "outputs": [
    {
     "name": "stdout",
     "output_type": "stream",
     "text": [
      "Original_File_Insert1.csv\n"
     ]
    }
   ],
   "source": [
    "# using % operator\n",
    "\n",
    "insert1_file = '%s_Insert1%s' % (file[:ext_pos], file[ext_pos:])\n",
    "print(insert1_file)"
   ]
  },
  {
   "cell_type": "code",
   "execution_count": 47,
   "metadata": {},
   "outputs": [
    {
     "name": "stdout",
     "output_type": "stream",
     "text": [
      "Original_File_Insert2.csv\n"
     ]
    }
   ],
   "source": [
    "# using str.format() method\n",
    "\n",
    "insert2_file = '{0}_Insert2{1}'.format(file[:ext_pos], file[ext_pos:])\n",
    "print(insert2_file)"
   ]
  },
  {
   "cell_type": "code",
   "execution_count": 48,
   "metadata": {},
   "outputs": [
    {
     "name": "stdout",
     "output_type": "stream",
     "text": [
      "Original_File_Insert3.csv\n"
     ]
    }
   ],
   "source": [
    "# using str.template() method\n",
    "# curly braces {} are required when valid identifier characters follow the placeholder, but are not part of placeholder\n",
    "\n",
    "base = Template('${begin}_Insert3$end')\n",
    "insert3_file = base.substitute(begin=file[:ext_pos], end=file[ext_pos:])\n",
    "print(insert3_file)"
   ]
  },
  {
   "cell_type": "code",
   "execution_count": 49,
   "metadata": {},
   "outputs": [
    {
     "name": "stdout",
     "output_type": "stream",
     "text": [
      "Original_File_Insert4.csv\n"
     ]
    }
   ],
   "source": [
    "# using f-string\n",
    "\n",
    "insert4_file = f'{file[:ext_pos]}_Insert4{file[ext_pos:]}'\n",
    "print(insert4_file)"
   ]
  },
  {
   "cell_type": "markdown",
   "metadata": {},
   "source": [
    "You may notice these use Python slice notation <br>\n",
    "variable[start:end] # items start through end-1 <br>\n",
    "variable[start:]    # items start through the rest of the array <br>\n",
    "variable[:end]      # items from the beginning through end-1 <br>\n",
    "variable[:]         # a copy of the whole array"
   ]
  },
  {
   "cell_type": "code",
   "execution_count": 54,
   "metadata": {},
   "outputs": [
    {
     "name": "stdout",
     "output_type": "stream",
     "text": [
      "This is a sample string. Sample strings are silly.\n",
      "ample strin\n",
      "ample string. Sample strings are silly.\n",
      "This is a sample strin\n",
      "This is a sample string. Sample strings are silly.\n"
     ]
    }
   ],
   "source": [
    "# Python slice notation examples.\n",
    "\n",
    "string = 'This is a sample string. Sample strings are silly.'\n",
    "print(string)\n",
    "print(string[11:22])\n",
    "print(string[11:])\n",
    "print(string[:22])\n",
    "print(string[:])"
   ]
  }
 ],
 "metadata": {
  "kernelspec": {
   "display_name": "Python 3",
   "language": "python",
   "name": "python3"
  },
  "language_info": {
   "codemirror_mode": {
    "name": "ipython",
    "version": 3
   },
   "file_extension": ".py",
   "mimetype": "text/x-python",
   "name": "python",
   "nbconvert_exporter": "python",
   "pygments_lexer": "ipython3",
   "version": "3.7.0"
  }
 },
 "nbformat": 4,
 "nbformat_minor": 2
}
