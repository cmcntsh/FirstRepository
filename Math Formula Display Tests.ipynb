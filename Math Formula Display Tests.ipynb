{
 "cells": [
  {
   "cell_type": "markdown",
   "metadata": {},
   "source": [
    "# Displaying math formulas in Juypyter notebook"
   ]
  },
  {
   "cell_type": "markdown",
   "metadata": {},
   "source": [
    "I did a little playing around with how to display math formulas in Python output. This works in Jupyter notebooks. Here is a nice link which explains some LaTex formatting. https://en.wikibooks.org/wiki/LaTeX/Mathematics"
   ]
  },
  {
   "cell_type": "code",
   "execution_count": 15,
   "metadata": {},
   "outputs": [
    {
     "data": {
      "text/latex": [
       "$$\\left(\\displaystyle\\sum_{x=1}^{5}\\frac{1}{\\sqrt{x}}\\right)$$"
      ],
      "text/plain": [
       "<IPython.core.display.Math object>"
      ]
     },
     "metadata": {},
     "output_type": "display_data"
    }
   ],
   "source": [
    "from IPython.display import display, Math, Latex\n",
    "#txt = \"$\\[ 2-\\frac{2}{1-\\left(\\raisebox{0.5ex}{$\\displaystyle\\frac{2}{2-\\frac{2}{x^2}}$}\\right)} \\]$\"\n",
    "#txt = '$1+\\dfrac{{1}}{{2}}+\\\\alpha+m^3$'\n",
    "txt = r'$\\left(\\displaystyle\\sum_{x=1}^{5}\\frac{1}{\\sqrt{x}}\\right)$'\n",
    "display(Math(txt))"
   ]
  }
 ],
 "metadata": {
  "kernelspec": {
   "display_name": "Python 3",
   "language": "python",
   "name": "python3"
  },
  "language_info": {
   "codemirror_mode": {
    "name": "ipython",
    "version": 3
   },
   "file_extension": ".py",
   "mimetype": "text/x-python",
   "name": "python",
   "nbconvert_exporter": "python",
   "pygments_lexer": "ipython3",
   "version": "3.7.0"
  }
 },
 "nbformat": 4,
 "nbformat_minor": 2
}
